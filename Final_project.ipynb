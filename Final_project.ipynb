{
 "metadata": {
  "language_info": {
   "codemirror_mode": {
    "name": "ipython",
    "version": 3
   },
   "file_extension": ".py",
   "mimetype": "text/x-python",
   "name": "python",
   "nbconvert_exporter": "python",
   "pygments_lexer": "ipython3",
   "version": "3.8.8-final"
  },
  "orig_nbformat": 2,
  "kernelspec": {
   "name": "python388jvsc74a57bd036f53bcc94b1c26d970dfa9a58d4011dec09472309b707050833b3a1b507d46c",
   "display_name": "Python 3.8.8 64-bit (conda)"
  },
  "metadata": {
   "interpreter": {
    "hash": "0575ad6e8f32bc807b5d1078152c25196f94fb3b3bba53edb660f6d695bda569"
   }
  }
 },
 "nbformat": 4,
 "nbformat_minor": 2,
 "cells": [
  {
   "cell_type": "code",
   "execution_count": 13,
   "metadata": {},
   "outputs": [],
   "source": [
    "#import modules\n",
    "import pandas as pd \n",
    "import numpy as np \n",
    "import seaborn as sns\n",
    "import matplotlib.pyplot as plt \n",
    "from datetime import date, timedelta"
   ]
  },
  {
   "cell_type": "code",
   "execution_count": 60,
   "metadata": {},
   "outputs": [
    {
     "output_type": "stream",
     "name": "stderr",
     "text": [
      "C:\\Users\\Nehel\\Anaconda3\\lib\\site-packages\\IPython\\core\\interactiveshell.py:3165: DtypeWarning: Columns (1,4,5,6,13,14,15,16) have mixed types.Specify dtype option on import or set low_memory=False.\n  has_raised = await self.run_ast_nodes(code_ast.body, cell_name,\n"
     ]
    }
   ],
   "source": [
    "df = pd.read_csv(\"data\\metadata.csv\", parse_dates=['publish_time'])"
   ]
  },
  {
   "cell_type": "code",
   "execution_count": 61,
   "metadata": {},
   "outputs": [
    {
     "output_type": "execute_result",
     "data": {
      "text/plain": [
       "   cord_uid                                       sha source_x  \\\n",
       "0  ug7v899j  d1aafb70c066a2068b02786f8929fd9c900897fb      PMC   \n",
       "1  02tnwd4m  6b0567729c2143a66d737eb0a2f63f2dce2e5a7d      PMC   \n",
       "\n",
       "                                               title                    doi  \\\n",
       "0  Clinical features of culture-proven Mycoplasma...  10.1186/1471-2334-1-6   \n",
       "1  Nitric oxide: a pro-inflammatory mediator in l...           10.1186/rr14   \n",
       "\n",
       "      pmcid pubmed_id license  \\\n",
       "0  PMC35282  11472636   no-cc   \n",
       "1  PMC59543  11667967   no-cc   \n",
       "\n",
       "                                            abstract publish_time  \\\n",
       "0  OBJECTIVE: This retrospective chart review des...   2001-07-04   \n",
       "1  Inflammatory diseases of the respiratory tract...   2000-08-15   \n",
       "\n",
       "                                             authors         journal  mag_id  \\\n",
       "0                Madani, Tariq A; Al-Ghamdi, Aisha A  BMC Infect Dis     NaN   \n",
       "1  Vliet, Albert van der; Eiserich, Jason P; Cros...      Respir Res     NaN   \n",
       "\n",
       "  who_covidence_id arxiv_id  \\\n",
       "0              NaN      NaN   \n",
       "1              NaN      NaN   \n",
       "\n",
       "                                      pdf_json_files  \\\n",
       "0  document_parses/pdf_json/d1aafb70c066a2068b027...   \n",
       "1  document_parses/pdf_json/6b0567729c2143a66d737...   \n",
       "\n",
       "                               pmc_json_files  \\\n",
       "0  document_parses/pmc_json/PMC35282.xml.json   \n",
       "1  document_parses/pmc_json/PMC59543.xml.json   \n",
       "\n",
       "                                                 url  s2_id  \n",
       "0  https://www.ncbi.nlm.nih.gov/pmc/articles/PMC3...    NaN  \n",
       "1  https://www.ncbi.nlm.nih.gov/pmc/articles/PMC5...    NaN  "
      ],
      "text/html": "<div>\n<style scoped>\n    .dataframe tbody tr th:only-of-type {\n        vertical-align: middle;\n    }\n\n    .dataframe tbody tr th {\n        vertical-align: top;\n    }\n\n    .dataframe thead th {\n        text-align: right;\n    }\n</style>\n<table border=\"1\" class=\"dataframe\">\n  <thead>\n    <tr style=\"text-align: right;\">\n      <th></th>\n      <th>cord_uid</th>\n      <th>sha</th>\n      <th>source_x</th>\n      <th>title</th>\n      <th>doi</th>\n      <th>pmcid</th>\n      <th>pubmed_id</th>\n      <th>license</th>\n      <th>abstract</th>\n      <th>publish_time</th>\n      <th>authors</th>\n      <th>journal</th>\n      <th>mag_id</th>\n      <th>who_covidence_id</th>\n      <th>arxiv_id</th>\n      <th>pdf_json_files</th>\n      <th>pmc_json_files</th>\n      <th>url</th>\n      <th>s2_id</th>\n    </tr>\n  </thead>\n  <tbody>\n    <tr>\n      <th>0</th>\n      <td>ug7v899j</td>\n      <td>d1aafb70c066a2068b02786f8929fd9c900897fb</td>\n      <td>PMC</td>\n      <td>Clinical features of culture-proven Mycoplasma...</td>\n      <td>10.1186/1471-2334-1-6</td>\n      <td>PMC35282</td>\n      <td>11472636</td>\n      <td>no-cc</td>\n      <td>OBJECTIVE: This retrospective chart review des...</td>\n      <td>2001-07-04</td>\n      <td>Madani, Tariq A; Al-Ghamdi, Aisha A</td>\n      <td>BMC Infect Dis</td>\n      <td>NaN</td>\n      <td>NaN</td>\n      <td>NaN</td>\n      <td>document_parses/pdf_json/d1aafb70c066a2068b027...</td>\n      <td>document_parses/pmc_json/PMC35282.xml.json</td>\n      <td>https://www.ncbi.nlm.nih.gov/pmc/articles/PMC3...</td>\n      <td>NaN</td>\n    </tr>\n    <tr>\n      <th>1</th>\n      <td>02tnwd4m</td>\n      <td>6b0567729c2143a66d737eb0a2f63f2dce2e5a7d</td>\n      <td>PMC</td>\n      <td>Nitric oxide: a pro-inflammatory mediator in l...</td>\n      <td>10.1186/rr14</td>\n      <td>PMC59543</td>\n      <td>11667967</td>\n      <td>no-cc</td>\n      <td>Inflammatory diseases of the respiratory tract...</td>\n      <td>2000-08-15</td>\n      <td>Vliet, Albert van der; Eiserich, Jason P; Cros...</td>\n      <td>Respir Res</td>\n      <td>NaN</td>\n      <td>NaN</td>\n      <td>NaN</td>\n      <td>document_parses/pdf_json/6b0567729c2143a66d737...</td>\n      <td>document_parses/pmc_json/PMC59543.xml.json</td>\n      <td>https://www.ncbi.nlm.nih.gov/pmc/articles/PMC5...</td>\n      <td>NaN</td>\n    </tr>\n  </tbody>\n</table>\n</div>"
     },
     "metadata": {},
     "execution_count": 61
    }
   ],
   "source": [
    "df.head(2)"
   ]
  },
  {
   "cell_type": "code",
   "execution_count": 10,
   "metadata": {},
   "outputs": [
    {
     "output_type": "execute_result",
     "data": {
      "text/plain": [
       "cord_uid                 0\n",
       "sha                 325801\n",
       "source_x                 0\n",
       "title                  232\n",
       "doi                 216153\n",
       "pmcid               315384\n",
       "pubmed_id           255970\n",
       "license                  0\n",
       "abstract            134842\n",
       "publish_time           219\n",
       "authors              13886\n",
       "journal              33151\n",
       "mag_id              497906\n",
       "who_covidence_id    300338\n",
       "arxiv_id            491219\n",
       "pdf_json_files      325801\n",
       "pmc_json_files      358021\n",
       "url                 195956\n",
       "s2_id                49001\n",
       "dtype: int64"
      ]
     },
     "metadata": {},
     "execution_count": 10
    }
   ],
   "source": [
    "df.isna().sum()"
   ]
  },
  {
   "cell_type": "code",
   "execution_count": 11,
   "metadata": {},
   "outputs": [
    {
     "output_type": "execute_result",
     "data": {
      "text/plain": [
       "cord_uid                    object\n",
       "sha                         object\n",
       "source_x                    object\n",
       "title                       object\n",
       "doi                         object\n",
       "pmcid                       object\n",
       "pubmed_id                   object\n",
       "license                     object\n",
       "abstract                    object\n",
       "publish_time        datetime64[ns]\n",
       "authors                     object\n",
       "journal                     object\n",
       "mag_id                     float64\n",
       "who_covidence_id            object\n",
       "arxiv_id                    object\n",
       "pdf_json_files              object\n",
       "pmc_json_files              object\n",
       "url                         object\n",
       "s2_id                      float64\n",
       "dtype: object"
      ]
     },
     "metadata": {},
     "execution_count": 11
    }
   ],
   "source": [
    "df.dtypes"
   ]
  },
  {
   "cell_type": "code",
   "execution_count": 62,
   "metadata": {},
   "outputs": [
    {
     "output_type": "execute_result",
     "data": {
      "text/plain": [
       "86002"
      ]
     },
     "metadata": {},
     "execution_count": 62
    }
   ],
   "source": [
    "#There are a lot of data that is before 2019, this is typically in reference to other coronaviruses\n",
    "df[df['publish_time'] < pd.Timestamp(2019,1,1)].shape[0]"
   ]
  },
  {
   "cell_type": "code",
   "execution_count": 63,
   "metadata": {},
   "outputs": [],
   "source": [
    "#This data can be removed, furthermore unused columns are also removed below\n",
    "df = df[df['publish_time'] < pd.Timestamp(2019,10,1)]\n",
    "df = df[['title','publish_time','abstract','authors','journal']]"
   ]
  },
  {
   "cell_type": "code",
   "execution_count": 64,
   "metadata": {},
   "outputs": [],
   "source": [
    "df.dropna(subset=['abstract'],inplace=True)"
   ]
  },
  {
   "cell_type": "code",
   "execution_count": 49,
   "metadata": {},
   "outputs": [
    {
     "output_type": "stream",
     "name": "stdout",
     "text": [
      "<class 'pandas.core.frame.DataFrame'>\nInt64Index: 78344 entries, 0 to 497888\nData columns (total 5 columns):\n #   Column        Non-Null Count  Dtype         \n---  ------        --------------  -----         \n 0   title         78343 non-null  object        \n 1   publish_time  78344 non-null  datetime64[ns]\n 2   abstract      78344 non-null  object        \n 3   authors       77598 non-null  object        \n 4   journal       77574 non-null  object        \ndtypes: datetime64[ns](1), object(4)\nmemory usage: 3.6+ MB\n"
     ]
    }
   ],
   "source": [
    "df.info()"
   ]
  },
  {
   "cell_type": "code",
   "execution_count": 65,
   "metadata": {},
   "outputs": [],
   "source": [
    "incubation_df = df[df['abstract'].str.contains('incubation')]"
   ]
  },
  {
   "cell_type": "code",
   "execution_count": 67,
   "metadata": {},
   "outputs": [
    {
     "output_type": "stream",
     "name": "stdout",
     "text": [
      "581\n"
     ]
    },
    {
     "output_type": "execute_result",
     "data": {
      "text/plain": [
       "                                                 title publish_time  \\\n",
       "68   An object simulation model for modeling hypoth...   2006-08-23   \n",
       "331  Localization of Low-Density Detergent-Resistan...   2009-05-01   \n",
       "474  Responses of Human Endothelial Cells to Pathog...   2010-12-14   \n",
       "515  Tylosema esculentum (Marama) Tuber and Bean Ex...   2011-02-20   \n",
       "645  Characterization of Neutralizing Profiles in H...   2011-10-10   \n",
       "\n",
       "                                              abstract  \\\n",
       "68   BACKGROUND: EpiFlex is a flexible, easy to use...   \n",
       "331  Mammalian sperm become fertile after completin...   \n",
       "474  Leptospirosis is a widespread zoonotic infecti...   \n",
       "515  Tylosema esculentum (marama) beans and tubers ...   \n",
       "645  Several new human monoclonal antibodies (mAbs)...   \n",
       "\n",
       "                                               authors  \\\n",
       "68                                       Hanley, Brian   \n",
       "331  Miranda, Patricia V.; Allaire, Alicia; Sosnik,...   \n",
       "474  Martinez-Lopez, Denise G.; Fahey, Mark; Coburn...   \n",
       "515  Chingwaru, Walter; Majinda, Runner T.; Yeboah,...   \n",
       "645  Balla-Jhagjhoorsingh, Sunita S.; Willems, Bett...   \n",
       "\n",
       "                                journal  \n",
       "68                 Theor Biol Med Model  \n",
       "331             Biology of Reproduction  \n",
       "474                  PLoS Negl Trop Dis  \n",
       "515  Evid Based Complement Alternat Med  \n",
       "645                            PLoS One  "
      ],
      "text/html": "<div>\n<style scoped>\n    .dataframe tbody tr th:only-of-type {\n        vertical-align: middle;\n    }\n\n    .dataframe tbody tr th {\n        vertical-align: top;\n    }\n\n    .dataframe thead th {\n        text-align: right;\n    }\n</style>\n<table border=\"1\" class=\"dataframe\">\n  <thead>\n    <tr style=\"text-align: right;\">\n      <th></th>\n      <th>title</th>\n      <th>publish_time</th>\n      <th>abstract</th>\n      <th>authors</th>\n      <th>journal</th>\n    </tr>\n  </thead>\n  <tbody>\n    <tr>\n      <th>68</th>\n      <td>An object simulation model for modeling hypoth...</td>\n      <td>2006-08-23</td>\n      <td>BACKGROUND: EpiFlex is a flexible, easy to use...</td>\n      <td>Hanley, Brian</td>\n      <td>Theor Biol Med Model</td>\n    </tr>\n    <tr>\n      <th>331</th>\n      <td>Localization of Low-Density Detergent-Resistan...</td>\n      <td>2009-05-01</td>\n      <td>Mammalian sperm become fertile after completin...</td>\n      <td>Miranda, Patricia V.; Allaire, Alicia; Sosnik,...</td>\n      <td>Biology of Reproduction</td>\n    </tr>\n    <tr>\n      <th>474</th>\n      <td>Responses of Human Endothelial Cells to Pathog...</td>\n      <td>2010-12-14</td>\n      <td>Leptospirosis is a widespread zoonotic infecti...</td>\n      <td>Martinez-Lopez, Denise G.; Fahey, Mark; Coburn...</td>\n      <td>PLoS Negl Trop Dis</td>\n    </tr>\n    <tr>\n      <th>515</th>\n      <td>Tylosema esculentum (Marama) Tuber and Bean Ex...</td>\n      <td>2011-02-20</td>\n      <td>Tylosema esculentum (marama) beans and tubers ...</td>\n      <td>Chingwaru, Walter; Majinda, Runner T.; Yeboah,...</td>\n      <td>Evid Based Complement Alternat Med</td>\n    </tr>\n    <tr>\n      <th>645</th>\n      <td>Characterization of Neutralizing Profiles in H...</td>\n      <td>2011-10-10</td>\n      <td>Several new human monoclonal antibodies (mAbs)...</td>\n      <td>Balla-Jhagjhoorsingh, Sunita S.; Willems, Bett...</td>\n      <td>PLoS One</td>\n    </tr>\n  </tbody>\n</table>\n</div>"
     },
     "metadata": {},
     "execution_count": 67
    }
   ],
   "source": [
    "print(incubation_df.shape[0])\n",
    "incubation_df.head()"
   ]
  },
  {
   "cell_type": "code",
   "execution_count": 69,
   "metadata": {},
   "outputs": [],
   "source": [
    "incubation_df.reset_index(drop=True,inplace = True)"
   ]
  },
  {
   "cell_type": "code",
   "execution_count": 73,
   "metadata": {},
   "outputs": [
    {
     "output_type": "execute_result",
     "data": {
      "text/plain": [
       "'PrP(Sc) is believed to serve as a template for the conversion of PrP(C) to the abnormal isoform. This process requires contact between the two proteins and implies that there may be critical contact sites that are important for conversion. We hypothesized that antibodies binding to either PrP(c)or PrP(Sc) would hinder or prevent the formation of the PrP(C)–PrP(Sc) complex and thus slow down or prevent the conversion process. Two systems were used to analyze the effect of different antibodies on PrP(Sc) formation: (i) neuroblastoma cells persistently infected with the 22L mouse-adapted scrapie stain, and (ii) protein misfolding cyclic amplification (PMCA), which uses PrP(Sc) as a template or seed, and a series of incubations and sonications, to convert PrP(C) to PrP(Sc). The two systems yielded similar results, in most cases, and demonstrate that PrP-specific monoclonal antibodies (Mabs) vary in their ability to inhibit the PrP(C)–PrP(Sc) conversion process. Based on the numerous and varied Mabs analyzed, the inhibitory effect does not appear to be epitope specific, related to PrP(C) conformation, or to cell membrane localization, but is influenced by the targeted PrP region (amino vs carboxy).'"
      ]
     },
     "metadata": {},
     "execution_count": 73
    }
   ],
   "source": [
    "incubation_df['abstract'][6]"
   ]
  },
  {
   "cell_type": "code",
   "execution_count": 50,
   "metadata": {},
   "outputs": [],
   "source": [
    "animals = [\"animals\",\"pet\",\"cat\",\"dog\",\"monkey\",\"parrot\",\"bird\",\"tiger\",\"lion\",\"cow\"]\n",
    "df['animal'] = False\n",
    "df.loc[df['abstract'].str.contains('|'.join(animals)),\"animal\"]= True"
   ]
  },
  {
   "cell_type": "code",
   "execution_count": 51,
   "metadata": {},
   "outputs": [],
   "source": [
    "df = df[df[\"animal\"] == True]"
   ]
  },
  {
   "cell_type": "code",
   "execution_count": 52,
   "metadata": {},
   "outputs": [
    {
     "output_type": "execute_result",
     "data": {
      "text/plain": [
       "46622"
      ]
     },
     "metadata": {},
     "execution_count": 52
    }
   ],
   "source": [
    "df.shape[0]"
   ]
  },
  {
   "cell_type": "code",
   "execution_count": 56,
   "metadata": {},
   "outputs": [],
   "source": [
    "df.reset_index(drop = True, inplace=True)"
   ]
  },
  {
   "cell_type": "code",
   "execution_count": 59,
   "metadata": {},
   "outputs": [
    {
     "output_type": "execute_result",
     "data": {
      "text/plain": [
       "'BACKGROUND: AlkB-like proteins are members of the 2-oxoglutarate- and Fe(II)-dependent oxygenase superfamily. In Escherichia coli the protein protects RNA and DNA against damage from methylating agents. 1-methyladenine and 3-methylcytosine are repaired by oxidative demethylation and direct reversal of the methylated base back to its unmethylated form. Genes for AlkB homologues are widespread in nature, and Eukaryotes often have several genes coding for AlkB-like proteins. Similar domains have also been observed in certain plant viruses. The function of the viral domain is unknown, but it has been suggested that it may be involved in protecting the virus against the post-transcriptional gene silencing (PTGS) system found in plants. We wanted to do a phylogenomic mapping of viral AlkB-like domains as a basis for analysing functional aspects of these domains, because this could have some relevance for understanding possible alternative roles of AlkB homologues e.g. in Eukaryotes. RESULTS: Profile-based searches of protein sequence libraries showed that AlkB-like domains are found in at least 22 different single-stranded RNA positive-strand plant viruses, but mainly in a subgroup of the Flexiviridae family. Sequence analysis indicated that the AlkB domains probably are functionally conserved, and that they most likely have been integrated relatively recently into several viral genomes at geographically distinct locations. This pattern seems to be more consistent with increased environmental pressure, e.g. from methylating pesticides, than with interaction with the PTGS system. CONCLUSIONS: The AlkB domain found in viral genomes is most likely a conventional DNA/RNA repair domain that protects the viral RNA genome against methylating compounds from the environment.'"
      ]
     },
     "metadata": {},
     "execution_count": 59
    }
   ],
   "source": [
    "df['abstract'][8]"
   ]
  },
  {
   "cell_type": "code",
   "execution_count": null,
   "metadata": {},
   "outputs": [],
   "source": []
  },
  {
   "cell_type": "code",
   "execution_count": null,
   "metadata": {},
   "outputs": [],
   "source": []
  },
  {
   "cell_type": "code",
   "execution_count": 39,
   "metadata": {},
   "outputs": [
    {
     "output_type": "error",
     "ename": "SyntaxError",
     "evalue": "invalid syntax (<ipython-input-39-1b6cf15169d1>, line 1)",
     "traceback": [
      "\u001b[1;36m  File \u001b[1;32m\"<ipython-input-39-1b6cf15169d1>\"\u001b[1;36m, line \u001b[1;32m1\u001b[0m\n\u001b[1;33m    df['abstract'][0] contains \"covid\"\u001b[0m\n\u001b[1;37m                      ^\u001b[0m\n\u001b[1;31mSyntaxError\u001b[0m\u001b[1;31m:\u001b[0m invalid syntax\n"
     ]
    }
   ],
   "source": [
    "df['abstract'][0] contains \"covid\""
   ]
  },
  {
   "cell_type": "code",
   "execution_count": 36,
   "metadata": {
    "tags": []
   },
   "outputs": [
    {
     "output_type": "error",
     "ename": "TypeError",
     "evalue": "'in <string>' requires string as left operand, not list",
     "traceback": [
      "\u001b[1;31m---------------------------------------------------------------------------\u001b[0m",
      "\u001b[1;31mTypeError\u001b[0m                                 Traceback (most recent call last)",
      "\u001b[1;32m<ipython-input-36-7e64800aa955>\u001b[0m in \u001b[0;36m<module>\u001b[1;34m\u001b[0m\n\u001b[0;32m      1\u001b[0m \u001b[0mcount\u001b[0m \u001b[1;33m=\u001b[0m \u001b[1;36m0\u001b[0m\u001b[1;33m\u001b[0m\u001b[1;33m\u001b[0m\u001b[0m\n\u001b[0;32m      2\u001b[0m \u001b[1;32mfor\u001b[0m \u001b[0mval\u001b[0m \u001b[1;32min\u001b[0m \u001b[0mdf\u001b[0m\u001b[1;33m[\u001b[0m\u001b[1;34m'abstract'\u001b[0m\u001b[1;33m]\u001b[0m\u001b[1;33m:\u001b[0m\u001b[1;33m\u001b[0m\u001b[1;33m\u001b[0m\u001b[0m\n\u001b[1;32m----> 3\u001b[1;33m     \u001b[1;32mif\u001b[0m \u001b[1;33m[\u001b[0m\u001b[1;34m\"animal\"\u001b[0m\u001b[1;33m,\u001b[0m\u001b[1;34m\"pet\"\u001b[0m\u001b[1;33m]\u001b[0m \u001b[1;32min\u001b[0m \u001b[0mval\u001b[0m\u001b[1;33m:\u001b[0m\u001b[1;33m\u001b[0m\u001b[1;33m\u001b[0m\u001b[0m\n\u001b[0m\u001b[0;32m      4\u001b[0m         \u001b[0mcount\u001b[0m\u001b[1;33m+=\u001b[0m\u001b[1;36m1\u001b[0m\u001b[1;33m\u001b[0m\u001b[1;33m\u001b[0m\u001b[0m\n\u001b[0;32m      5\u001b[0m \u001b[0mprint\u001b[0m\u001b[1;33m(\u001b[0m\u001b[0mcount\u001b[0m\u001b[1;33m)\u001b[0m\u001b[1;33m\u001b[0m\u001b[1;33m\u001b[0m\u001b[0m\n",
      "\u001b[1;31mTypeError\u001b[0m: 'in <string>' requires string as left operand, not list"
     ]
    }
   ],
   "source": [
    "count = 0\n",
    "for val in df['abstract']:\n",
    "    if val.str:\n",
    "        count+=1\n",
    "print(count)"
   ]
  },
  {
   "cell_type": "code",
   "execution_count": null,
   "metadata": {},
   "outputs": [],
   "source": []
  },
  {
   "cell_type": "code",
   "execution_count": null,
   "metadata": {},
   "outputs": [],
   "source": []
  },
  {
   "cell_type": "code",
   "execution_count": null,
   "metadata": {},
   "outputs": [],
   "source": []
  }
 ]
}